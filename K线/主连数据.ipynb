{
 "cells": [
  {
   "cell_type": "code",
   "execution_count": 1,
   "id": "b0dffcdc",
   "metadata": {
    "ExecuteTime": {
     "end_time": "2022-02-27T09:48:49.299276Z",
     "start_time": "2022-02-27T09:48:48.986794Z"
    }
   },
   "outputs": [],
   "source": [
    "import pandas as pd\n",
    "import os\n",
    "import numpy as np"
   ]
  },
  {
   "cell_type": "code",
   "execution_count": 2,
   "id": "a4b50c55",
   "metadata": {
    "ExecuteTime": {
     "end_time": "2022-02-27T09:48:51.404163Z",
     "start_time": "2022-02-27T09:48:51.396089Z"
    }
   },
   "outputs": [],
   "source": [
    "def get_date_map(code, items):\n",
    "    date_map = {}\n",
    "    start_date = '2010-01-01'\n",
    "    for idx in range(0, len(items), 2):\n",
    "        contract, end_date = code + items[idx], items[idx + 1]\n",
    "        for date in pd.date_range(start_date, end_date, closed='right'):\n",
    "            date_map[str(date.date()).replace('-', '')] = contract\n",
    "            start_date = end_date\n",
    "    return date_map"
   ]
  },
  {
   "cell_type": "code",
   "execution_count": 9,
   "id": "3779dc70",
   "metadata": {
    "ExecuteTime": {
     "end_time": "2022-02-27T09:53:48.314825Z",
     "start_time": "2022-02-27T09:53:47.997188Z"
    }
   },
   "outputs": [
    {
     "name": "stderr",
     "output_type": "stream",
     "text": [
      "/tmp/ipykernel_16201/3658593998.py:6: FutureWarning: Argument `closed` is deprecated in favor of `inclusive`.\n",
      "  for date in pd.date_range(start_date, end_date, closed='right'):\n"
     ]
    },
    {
     "ename": "ValueError",
     "evalue": "No objects to concatenate",
     "output_type": "error",
     "traceback": [
      "\u001b[0;31m---------------------------------------------------------------------------\u001b[0m",
      "\u001b[0;31mValueError\u001b[0m                                Traceback (most recent call last)",
      "\u001b[0;32m/tmp/ipykernel_16201/771194818.py\u001b[0m in \u001b[0;36m<module>\u001b[0;34m\u001b[0m\n\u001b[1;32m     31\u001b[0m             \u001b[0mdf_list\u001b[0m\u001b[0;34m.\u001b[0m\u001b[0mappend\u001b[0m\u001b[0;34m(\u001b[0m\u001b[0mdf\u001b[0m\u001b[0;34m)\u001b[0m\u001b[0;34m\u001b[0m\u001b[0;34m\u001b[0m\u001b[0m\n\u001b[1;32m     32\u001b[0m \u001b[0;34m\u001b[0m\u001b[0m\n\u001b[0;32m---> 33\u001b[0;31m     \u001b[0mdf\u001b[0m \u001b[0;34m=\u001b[0m \u001b[0mpd\u001b[0m\u001b[0;34m.\u001b[0m\u001b[0mconcat\u001b[0m\u001b[0;34m(\u001b[0m\u001b[0mdf_list\u001b[0m\u001b[0;34m,\u001b[0m \u001b[0mignore_index\u001b[0m\u001b[0;34m=\u001b[0m\u001b[0;32mTrue\u001b[0m\u001b[0;34m)\u001b[0m\u001b[0;34m\u001b[0m\u001b[0;34m\u001b[0m\u001b[0m\n\u001b[0m\u001b[1;32m     34\u001b[0m     \u001b[0mdf\u001b[0m\u001b[0;34m.\u001b[0m\u001b[0mto_csv\u001b[0m\u001b[0;34m(\u001b[0m\u001b[0;34m'/home/tanzeren/data/'\u001b[0m\u001b[0;34m+\u001b[0m\u001b[0mcode\u001b[0m\u001b[0;34m+\u001b[0m\u001b[0;34m'_202106.csv'\u001b[0m\u001b[0;34m,\u001b[0m\u001b[0mindex\u001b[0m\u001b[0;34m=\u001b[0m\u001b[0;32mFalse\u001b[0m\u001b[0;34m,\u001b[0m\u001b[0mencoding\u001b[0m\u001b[0;34m=\u001b[0m\u001b[0;34m'gbk'\u001b[0m\u001b[0;34m)\u001b[0m\u001b[0;34m\u001b[0m\u001b[0;34m\u001b[0m\u001b[0m\n",
      "\u001b[0;32m~/miniconda3/envs/py39/lib/python3.9/site-packages/pandas/util/_decorators.py\u001b[0m in \u001b[0;36mwrapper\u001b[0;34m(*args, **kwargs)\u001b[0m\n\u001b[1;32m    309\u001b[0m                     \u001b[0mstacklevel\u001b[0m\u001b[0;34m=\u001b[0m\u001b[0mstacklevel\u001b[0m\u001b[0;34m,\u001b[0m\u001b[0;34m\u001b[0m\u001b[0;34m\u001b[0m\u001b[0m\n\u001b[1;32m    310\u001b[0m                 )\n\u001b[0;32m--> 311\u001b[0;31m             \u001b[0;32mreturn\u001b[0m \u001b[0mfunc\u001b[0m\u001b[0;34m(\u001b[0m\u001b[0;34m*\u001b[0m\u001b[0margs\u001b[0m\u001b[0;34m,\u001b[0m \u001b[0;34m**\u001b[0m\u001b[0mkwargs\u001b[0m\u001b[0;34m)\u001b[0m\u001b[0;34m\u001b[0m\u001b[0;34m\u001b[0m\u001b[0m\n\u001b[0m\u001b[1;32m    312\u001b[0m \u001b[0;34m\u001b[0m\u001b[0m\n\u001b[1;32m    313\u001b[0m         \u001b[0;32mreturn\u001b[0m \u001b[0mwrapper\u001b[0m\u001b[0;34m\u001b[0m\u001b[0;34m\u001b[0m\u001b[0m\n",
      "\u001b[0;32m~/miniconda3/envs/py39/lib/python3.9/site-packages/pandas/core/reshape/concat.py\u001b[0m in \u001b[0;36mconcat\u001b[0;34m(objs, axis, join, ignore_index, keys, levels, names, verify_integrity, sort, copy)\u001b[0m\n\u001b[1;32m    344\u001b[0m     \u001b[0mValueError\u001b[0m\u001b[0;34m:\u001b[0m \u001b[0mIndexes\u001b[0m \u001b[0mhave\u001b[0m \u001b[0moverlapping\u001b[0m \u001b[0mvalues\u001b[0m\u001b[0;34m:\u001b[0m \u001b[0;34m[\u001b[0m\u001b[0;34m'a'\u001b[0m\u001b[0;34m]\u001b[0m\u001b[0;34m\u001b[0m\u001b[0;34m\u001b[0m\u001b[0m\n\u001b[1;32m    345\u001b[0m     \"\"\"\n\u001b[0;32m--> 346\u001b[0;31m     op = _Concatenator(\n\u001b[0m\u001b[1;32m    347\u001b[0m         \u001b[0mobjs\u001b[0m\u001b[0;34m,\u001b[0m\u001b[0;34m\u001b[0m\u001b[0;34m\u001b[0m\u001b[0m\n\u001b[1;32m    348\u001b[0m         \u001b[0maxis\u001b[0m\u001b[0;34m=\u001b[0m\u001b[0maxis\u001b[0m\u001b[0;34m,\u001b[0m\u001b[0;34m\u001b[0m\u001b[0;34m\u001b[0m\u001b[0m\n",
      "\u001b[0;32m~/miniconda3/envs/py39/lib/python3.9/site-packages/pandas/core/reshape/concat.py\u001b[0m in \u001b[0;36m__init__\u001b[0;34m(self, objs, axis, join, keys, levels, names, ignore_index, verify_integrity, copy, sort)\u001b[0m\n\u001b[1;32m    401\u001b[0m \u001b[0;34m\u001b[0m\u001b[0m\n\u001b[1;32m    402\u001b[0m         \u001b[0;32mif\u001b[0m \u001b[0mlen\u001b[0m\u001b[0;34m(\u001b[0m\u001b[0mobjs\u001b[0m\u001b[0;34m)\u001b[0m \u001b[0;34m==\u001b[0m \u001b[0;36m0\u001b[0m\u001b[0;34m:\u001b[0m\u001b[0;34m\u001b[0m\u001b[0;34m\u001b[0m\u001b[0m\n\u001b[0;32m--> 403\u001b[0;31m             \u001b[0;32mraise\u001b[0m \u001b[0mValueError\u001b[0m\u001b[0;34m(\u001b[0m\u001b[0;34m\"No objects to concatenate\"\u001b[0m\u001b[0;34m)\u001b[0m\u001b[0;34m\u001b[0m\u001b[0;34m\u001b[0m\u001b[0m\n\u001b[0m\u001b[1;32m    404\u001b[0m \u001b[0;34m\u001b[0m\u001b[0m\n\u001b[1;32m    405\u001b[0m         \u001b[0;32mif\u001b[0m \u001b[0mkeys\u001b[0m \u001b[0;32mis\u001b[0m \u001b[0;32mNone\u001b[0m\u001b[0;34m:\u001b[0m\u001b[0;34m\u001b[0m\u001b[0;34m\u001b[0m\u001b[0m\n",
      "\u001b[0;31mValueError\u001b[0m: No objects to concatenate"
     ]
    }
   ],
   "source": [
    "codes = ['ni','cu','rb','zn','pb']\n",
    "for code in codes:\n",
    "    #判断哪些是每天的主力合约，以镍为例，选取code和items\n",
    "    basic_info = pd.read_excel('./BasicInformation.xlsx')\n",
    "    basic_info.dropna(subset=['contract'], inplace=True)\n",
    "    \n",
    "    code_contract = basic_info.contract[np.where(basic_info.Symbol==code)[0][0]] #33这个数字要修改为自动化读取ni所在行\n",
    "\n",
    "\n",
    "\n",
    "    main_date_map = get_date_map(code, code_contract.split(';')) #得到金属ni的每天的主力合约，字典\n",
    "\n",
    "\n",
    "    df_list = []\n",
    "    #金属ni文件的路径，路径比较复杂\n",
    "    path1='/home/tanzeren/data/dates/'\n",
    "    date_list=sorted(os.listdir(path1)) #分日期的文件夹路径\n",
    "    for date in date_list:\n",
    "        if (date != '.DS_Store') and (date >= '20210101'):\n",
    "            code_id = main_date_map[date]\n",
    "            file_name = code_id\n",
    "            file_path = os.path.join(path1, date,'%s.pkl.bz2' % file_name) #可修改参数bar，（imbalance_bar/price_bar）\n",
    "            if not os.path.exists(file_path): continue\n",
    "            try:\n",
    "                df = pd.read_pickle(file_path)\n",
    "            except:\n",
    "                print(file_path)\n",
    "                continue\n",
    "            df['orig_symbol'] = code_id\n",
    "            df['date'] = date\n",
    "            df_list.append(df)\n",
    "\n",
    "    df = pd.concat(df_list, ignore_index=True)\n",
    "    df.to_csv('/home/tanzeren/data/'+code+'_202106.csv',index=False,encoding='gbk')"
   ]
  },
  {
   "cell_type": "code",
   "execution_count": 11,
   "id": "dbc430db",
   "metadata": {
    "ExecuteTime": {
     "end_time": "2022-02-27T09:54:38.021933Z",
     "start_time": "2022-02-27T09:54:38.015569Z"
    }
   },
   "outputs": [
    {
     "data": {
      "text/plain": [
       "['20210601',\n",
       " '20210602',\n",
       " '20210603',\n",
       " '20210604',\n",
       " '20210607',\n",
       " '20210608',\n",
       " '20210609',\n",
       " '20210610',\n",
       " '20210611',\n",
       " '20210615',\n",
       " '20210616',\n",
       " '20210617',\n",
       " '20210618',\n",
       " '20210621',\n",
       " '20210622',\n",
       " '20210623',\n",
       " '20210624',\n",
       " '20210625',\n",
       " '20210628',\n",
       " '20210629',\n",
       " '20210630']"
      ]
     },
     "execution_count": 11,
     "metadata": {},
     "output_type": "execute_result"
    }
   ],
   "source": [
    "date_list"
   ]
  },
  {
   "cell_type": "code",
   "execution_count": null,
   "id": "50c6f2b0",
   "metadata": {},
   "outputs": [],
   "source": []
  }
 ],
 "metadata": {
  "kernelspec": {
   "display_name": "Python 3 (ipykernel)",
   "language": "python",
   "name": "python3"
  },
  "language_info": {
   "codemirror_mode": {
    "name": "ipython",
    "version": 3
   },
   "file_extension": ".py",
   "mimetype": "text/x-python",
   "name": "python",
   "nbconvert_exporter": "python",
   "pygments_lexer": "ipython3",
   "version": "3.9.7"
  }
 },
 "nbformat": 4,
 "nbformat_minor": 5
}
